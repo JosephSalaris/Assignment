{
 "cells": [
  {
   "cell_type": "code",
   "execution_count": 1,
   "metadata": {},
   "outputs": [],
   "source": [
    "import numpy as np\n",
    "import pandas as pd\n",
    "\n",
    "import matplotlib.pyplot as plt\n",
    "import ipywidgets as wg\n",
    "import seaborn as sns # Never came across this package untill now, but it provides an easy way of creating a nice heatmap from \n",
    "# a dataframe"
   ]
  },
  {
   "cell_type": "markdown",
   "metadata": {},
   "source": [
    "### Task 1; Loading in the data"
   ]
  },
  {
   "cell_type": "code",
   "execution_count": 2,
   "metadata": {},
   "outputs": [
    {
     "data": {
      "text/html": [
       "<div>\n",
       "<style scoped>\n",
       "    .dataframe tbody tr th:only-of-type {\n",
       "        vertical-align: middle;\n",
       "    }\n",
       "\n",
       "    .dataframe tbody tr th {\n",
       "        vertical-align: top;\n",
       "    }\n",
       "\n",
       "    .dataframe thead th {\n",
       "        text-align: right;\n",
       "    }\n",
       "</style>\n",
       "<table border=\"1\" class=\"dataframe\">\n",
       "  <thead>\n",
       "    <tr style=\"text-align: right;\">\n",
       "      <th></th>\n",
       "      <th># STN</th>\n",
       "      <th>YYYYMMDD</th>\n",
       "      <th>FG</th>\n",
       "      <th>TG</th>\n",
       "      <th>RH</th>\n",
       "      <th>PG</th>\n",
       "      <th>NG</th>\n",
       "      <th>UG</th>\n",
       "    </tr>\n",
       "  </thead>\n",
       "  <tbody>\n",
       "    <tr>\n",
       "      <th>0</th>\n",
       "      <td>344</td>\n",
       "      <td>1988-11-01</td>\n",
       "      <td>46</td>\n",
       "      <td>80.0</td>\n",
       "      <td>0</td>\n",
       "      <td>10221.0</td>\n",
       "      <td>4</td>\n",
       "      <td>82</td>\n",
       "    </tr>\n",
       "    <tr>\n",
       "      <th>1</th>\n",
       "      <td>344</td>\n",
       "      <td>1988-11-02</td>\n",
       "      <td>36</td>\n",
       "      <td>67.0</td>\n",
       "      <td>27</td>\n",
       "      <td>10241.0</td>\n",
       "      <td>NaN</td>\n",
       "      <td>81</td>\n",
       "    </tr>\n",
       "    <tr>\n",
       "      <th>2</th>\n",
       "      <td>344</td>\n",
       "      <td>1988-11-03</td>\n",
       "      <td>26</td>\n",
       "      <td>15.0</td>\n",
       "      <td>0</td>\n",
       "      <td>10340.0</td>\n",
       "      <td>1</td>\n",
       "      <td>77</td>\n",
       "    </tr>\n",
       "    <tr>\n",
       "      <th>3</th>\n",
       "      <td>344</td>\n",
       "      <td>1988-11-04</td>\n",
       "      <td>51</td>\n",
       "      <td>12.0</td>\n",
       "      <td>0</td>\n",
       "      <td>10308.0</td>\n",
       "      <td>0</td>\n",
       "      <td>67</td>\n",
       "    </tr>\n",
       "    <tr>\n",
       "      <th>4</th>\n",
       "      <td>344</td>\n",
       "      <td>1988-11-05</td>\n",
       "      <td>NaN</td>\n",
       "      <td>22.0</td>\n",
       "      <td>0</td>\n",
       "      <td>10247.0</td>\n",
       "      <td>3</td>\n",
       "      <td>73</td>\n",
       "    </tr>\n",
       "  </tbody>\n",
       "</table>\n",
       "</div>"
      ],
      "text/plain": [
       "   # STN   YYYYMMDD    FG     TG     RH       PG    NG     UG\n",
       "0    344 1988-11-01    46   80.0      0  10221.0     4     82\n",
       "1    344 1988-11-02    36   67.0     27  10241.0   NaN     81\n",
       "2    344 1988-11-03    26   15.0      0  10340.0     1     77\n",
       "3    344 1988-11-04    51   12.0      0  10308.0     0     67\n",
       "4    344 1988-11-05   NaN   22.0      0  10247.0     3     73"
      ]
     },
     "execution_count": 2,
     "metadata": {},
     "output_type": "execute_result"
    }
   ],
   "source": [
    "df = pd.read_csv (r'C:\\Users\\Joseph\\Dropbox\\Duyfken\\KNMI_weather.csv', parse_dates=['YYYYMMDD']) \n",
    "# Have not used panda dataframe since my bachelor, but it seems the most common way to load a csv file. \n",
    "df.head()"
   ]
  },
  {
   "cell_type": "code",
   "execution_count": 3,
   "metadata": {},
   "outputs": [
    {
     "data": {
      "text/plain": [
       "Index(['# STN', 'YYYYMMDD', '   FG', '   TG', '   RH', '   PG', '   NG',\n",
       "       '   UG'],\n",
       "      dtype='object')"
      ]
     },
     "execution_count": 3,
     "metadata": {},
     "output_type": "execute_result"
    }
   ],
   "source": [
    "df.columns"
   ]
  },
  {
   "cell_type": "code",
   "execution_count": 4,
   "metadata": {},
   "outputs": [],
   "source": [
    "#df.rename(columns={'   FG': 'FG', '   TG': 'TG', '   RH': 'RH', '   PG': 'PG', '   NG': 'NG', '   UG': 'UG'}, inplace=True)\n",
    "#df.columns"
   ]
  },
  {
   "cell_type": "markdown",
   "metadata": {},
   "source": [
    "### Task 2; Select only data from Rotterdam station "
   ]
  },
  {
   "cell_type": "code",
   "execution_count": 5,
   "metadata": {},
   "outputs": [
    {
     "data": {
      "text/html": [
       "<div>\n",
       "<style scoped>\n",
       "    .dataframe tbody tr th:only-of-type {\n",
       "        vertical-align: middle;\n",
       "    }\n",
       "\n",
       "    .dataframe tbody tr th {\n",
       "        vertical-align: top;\n",
       "    }\n",
       "\n",
       "    .dataframe thead th {\n",
       "        text-align: right;\n",
       "    }\n",
       "</style>\n",
       "<table border=\"1\" class=\"dataframe\">\n",
       "  <thead>\n",
       "    <tr style=\"text-align: right;\">\n",
       "      <th></th>\n",
       "      <th># STN</th>\n",
       "      <th>YYYYMMDD</th>\n",
       "      <th>FG</th>\n",
       "      <th>TG</th>\n",
       "      <th>RH</th>\n",
       "      <th>PG</th>\n",
       "      <th>NG</th>\n",
       "      <th>UG</th>\n",
       "    </tr>\n",
       "  </thead>\n",
       "  <tbody>\n",
       "    <tr>\n",
       "      <th>10976</th>\n",
       "      <td>344</td>\n",
       "      <td>2018-11-20</td>\n",
       "      <td>76</td>\n",
       "      <td>34.0</td>\n",
       "      <td>2</td>\n",
       "      <td>10098.0</td>\n",
       "      <td>7</td>\n",
       "      <td>74</td>\n",
       "    </tr>\n",
       "    <tr>\n",
       "      <th>10977</th>\n",
       "      <td>344</td>\n",
       "      <td>2018-11-21</td>\n",
       "      <td>38</td>\n",
       "      <td>34.0</td>\n",
       "      <td>2</td>\n",
       "      <td>10162.0</td>\n",
       "      <td>7</td>\n",
       "      <td>85</td>\n",
       "    </tr>\n",
       "    <tr>\n",
       "      <th>10978</th>\n",
       "      <td>344</td>\n",
       "      <td>2018-11-22</td>\n",
       "      <td>32</td>\n",
       "      <td>32.0</td>\n",
       "      <td>0</td>\n",
       "      <td>10192.0</td>\n",
       "      <td>7</td>\n",
       "      <td>86</td>\n",
       "    </tr>\n",
       "    <tr>\n",
       "      <th>10979</th>\n",
       "      <td>344</td>\n",
       "      <td>2018-11-23</td>\n",
       "      <td>27</td>\n",
       "      <td>34.0</td>\n",
       "      <td>0</td>\n",
       "      <td>10162.0</td>\n",
       "      <td>7</td>\n",
       "      <td>89</td>\n",
       "    </tr>\n",
       "    <tr>\n",
       "      <th>10980</th>\n",
       "      <td>344</td>\n",
       "      <td>2018-11-24</td>\n",
       "      <td>35</td>\n",
       "      <td>25.0</td>\n",
       "      <td>0</td>\n",
       "      <td>10116.0</td>\n",
       "      <td>8</td>\n",
       "      <td>94</td>\n",
       "    </tr>\n",
       "  </tbody>\n",
       "</table>\n",
       "</div>"
      ],
      "text/plain": [
       "       # STN   YYYYMMDD    FG     TG     RH       PG    NG     UG\n",
       "10976    344 2018-11-20    76   34.0      2  10098.0     7     74\n",
       "10977    344 2018-11-21    38   34.0      2  10162.0     7     85\n",
       "10978    344 2018-11-22    32   32.0      0  10192.0     7     86\n",
       "10979    344 2018-11-23    27   34.0      0  10162.0     7     89\n",
       "10980    344 2018-11-24    35   25.0      0  10116.0     8     94"
      ]
     },
     "execution_count": 5,
     "metadata": {},
     "output_type": "execute_result"
    }
   ],
   "source": [
    "Rdf = df[df['# STN']==344] # Dataframe with only the data from Rotterdam selected\n",
    "Rdf.tail()"
   ]
  },
  {
   "cell_type": "markdown",
   "metadata": {},
   "source": [
    "### Task 3; For each variable, check number of NA's, calculate mean and standard deviation of whole sample"
   ]
  },
  {
   "cell_type": "code",
   "execution_count": 6,
   "metadata": {},
   "outputs": [
    {
     "data": {
      "text/html": [
       "<div>\n",
       "<style scoped>\n",
       "    .dataframe tbody tr th:only-of-type {\n",
       "        vertical-align: middle;\n",
       "    }\n",
       "\n",
       "    .dataframe tbody tr th {\n",
       "        vertical-align: top;\n",
       "    }\n",
       "\n",
       "    .dataframe thead th {\n",
       "        text-align: right;\n",
       "    }\n",
       "</style>\n",
       "<table border=\"1\" class=\"dataframe\">\n",
       "  <thead>\n",
       "    <tr style=\"text-align: right;\">\n",
       "      <th></th>\n",
       "      <th># STN</th>\n",
       "      <th>YYYYMMDD</th>\n",
       "      <th>FG</th>\n",
       "      <th>TG</th>\n",
       "      <th>RH</th>\n",
       "      <th>PG</th>\n",
       "      <th>NG</th>\n",
       "      <th>UG</th>\n",
       "    </tr>\n",
       "  </thead>\n",
       "  <tbody>\n",
       "    <tr>\n",
       "      <th>0</th>\n",
       "      <td>False</td>\n",
       "      <td>False</td>\n",
       "      <td>False</td>\n",
       "      <td>False</td>\n",
       "      <td>False</td>\n",
       "      <td>False</td>\n",
       "      <td>False</td>\n",
       "      <td>False</td>\n",
       "    </tr>\n",
       "    <tr>\n",
       "      <th>1</th>\n",
       "      <td>False</td>\n",
       "      <td>False</td>\n",
       "      <td>False</td>\n",
       "      <td>False</td>\n",
       "      <td>False</td>\n",
       "      <td>False</td>\n",
       "      <td>True</td>\n",
       "      <td>False</td>\n",
       "    </tr>\n",
       "    <tr>\n",
       "      <th>2</th>\n",
       "      <td>False</td>\n",
       "      <td>False</td>\n",
       "      <td>False</td>\n",
       "      <td>False</td>\n",
       "      <td>False</td>\n",
       "      <td>False</td>\n",
       "      <td>False</td>\n",
       "      <td>False</td>\n",
       "    </tr>\n",
       "    <tr>\n",
       "      <th>3</th>\n",
       "      <td>False</td>\n",
       "      <td>False</td>\n",
       "      <td>False</td>\n",
       "      <td>False</td>\n",
       "      <td>False</td>\n",
       "      <td>False</td>\n",
       "      <td>False</td>\n",
       "      <td>False</td>\n",
       "    </tr>\n",
       "    <tr>\n",
       "      <th>4</th>\n",
       "      <td>False</td>\n",
       "      <td>False</td>\n",
       "      <td>True</td>\n",
       "      <td>False</td>\n",
       "      <td>False</td>\n",
       "      <td>False</td>\n",
       "      <td>False</td>\n",
       "      <td>False</td>\n",
       "    </tr>\n",
       "  </tbody>\n",
       "</table>\n",
       "</div>"
      ],
      "text/plain": [
       "   # STN  YYYYMMDD     FG     TG     RH     PG     NG     UG\n",
       "0  False     False  False  False  False  False  False  False\n",
       "1  False     False  False  False  False  False   True  False\n",
       "2  False     False  False  False  False  False  False  False\n",
       "3  False     False  False  False  False  False  False  False\n",
       "4  False     False   True  False  False  False  False  False"
      ]
     },
     "execution_count": 6,
     "metadata": {},
     "output_type": "execute_result"
    }
   ],
   "source": [
    "# I assume we keep on working with data only from Rotterdam\n",
    "naRdf = pd.isna(Rdf) # Create boolean mask of where are NA's \n",
    "naRdf.head()"
   ]
  },
  {
   "cell_type": "code",
   "execution_count": 7,
   "metadata": {},
   "outputs": [
    {
     "data": {
      "text/plain": [
       "# STN       0\n",
       "YYYYMMDD    0\n",
       "   FG       3\n",
       "   TG       1\n",
       "   RH       0\n",
       "   PG       3\n",
       "   NG       1\n",
       "   UG       0\n",
       "dtype: int64"
      ]
     },
     "execution_count": 7,
     "metadata": {},
     "output_type": "execute_result"
    }
   ],
   "source": [
    "NnaRdf = naRdf.sum() # Calculate number of NA's for each variable\n",
    "NnaRdf"
   ]
  },
  {
   "cell_type": "code",
   "execution_count": 8,
   "metadata": {},
   "outputs": [
    {
     "name": "stdout",
     "output_type": "stream",
     "text": [
      "   TG      107.354189\n",
      "   RH       23.596303\n",
      "   PG    10155.823374\n",
      "   UG       81.845096\n",
      "dtype: float64\n"
     ]
    }
   ],
   "source": [
    "means = Rdf.mean()[1:]# Mean for each variable\n",
    "print(means)"
   ]
  },
  {
   "cell_type": "code",
   "execution_count": 9,
   "metadata": {},
   "outputs": [
    {
     "name": "stderr",
     "output_type": "stream",
     "text": [
      "C:\\Users\\Joseph\\Anaconda3\\lib\\site-packages\\ipykernel_launcher.py:2: SettingWithCopyWarning: \n",
      "A value is trying to be set on a copy of a slice from a DataFrame.\n",
      "Try using .loc[row_indexer,col_indexer] = value instead\n",
      "\n",
      "See the caveats in the documentation: http://pandas.pydata.org/pandas-docs/stable/indexing.html#indexing-view-versus-copy\n",
      "  \n",
      "C:\\Users\\Joseph\\Anaconda3\\lib\\site-packages\\ipykernel_launcher.py:5: SettingWithCopyWarning: \n",
      "A value is trying to be set on a copy of a slice from a DataFrame.\n",
      "Try using .loc[row_indexer,col_indexer] = value instead\n",
      "\n",
      "See the caveats in the documentation: http://pandas.pydata.org/pandas-docs/stable/indexing.html#indexing-view-versus-copy\n",
      "  \"\"\"\n"
     ]
    }
   ],
   "source": [
    "# Above the FG and NG are missing. \n",
    "Rdf['   FG'] = Rdf['   FG'].astype(float) # I believe the issue is that FG is int type, so it needs to be converted to float.\n",
    "\n",
    "# Similarly NG is object type (string)\n",
    "Rdf['   NG'] = pd.to_numeric(Rdf['   NG'], errors='coerce')"
   ]
  },
  {
   "cell_type": "code",
   "execution_count": 10,
   "metadata": {},
   "outputs": [
    {
     "name": "stdout",
     "output_type": "stream",
     "text": [
      "   FG       44.300146\n",
      "   TG      107.354189\n",
      "   RH       23.596303\n",
      "   PG    10155.823374\n",
      "   NG        5.323454\n",
      "   UG       81.845096\n",
      "dtype: float64\n"
     ]
    }
   ],
   "source": [
    "# This time it truly works for each variable:\n",
    "means = Rdf.mean()[1:]\n",
    "print(means)"
   ]
  },
  {
   "cell_type": "code",
   "execution_count": 11,
   "metadata": {},
   "outputs": [
    {
     "name": "stdout",
     "output_type": "stream",
     "text": [
      "   FG    21.665335\n",
      "   TG    60.651310\n",
      "   RH    48.144150\n",
      "   PG    98.331105\n",
      "   NG     2.207596\n",
      "   UG     9.252044\n",
      "dtype: float64\n"
     ]
    }
   ],
   "source": [
    "stds = Rdf.std()[1:] # Standard deviation for each variable\n",
    "print(stds)"
   ]
  },
  {
   "cell_type": "markdown",
   "metadata": {},
   "source": [
    "### Task 4; Plot time series for TG variable"
   ]
  },
  {
   "cell_type": "code",
   "execution_count": 12,
   "metadata": {},
   "outputs": [
    {
     "data": {
      "text/plain": [
       "Index(['# STN', 'YYYYMMDD', '   FG', '   TG', '   RH', '   PG', '   NG',\n",
       "       '   UG'],\n",
       "      dtype='object')"
      ]
     },
     "execution_count": 12,
     "metadata": {},
     "output_type": "execute_result"
    }
   ],
   "source": [
    "Rdf.columns"
   ]
  },
  {
   "cell_type": "code",
   "execution_count": 13,
   "metadata": {},
   "outputs": [
    {
     "data": {
      "image/png": "[encoded data removed]",
      "text/plain": [
       "<Figure size 504x360 with 1 Axes>"
      ]
     },
     "metadata": {
      "needs_background": "light"
     },
     "output_type": "display_data"
    }
   ],
   "source": [
    "ax = Rdf.plot(x='YYYYMMDD', y='   TG', figsize=(7,5), legend=False)\n",
    "ax.set_xlabel('Year'); ax.set_ylabel('TG $\\mathrm{[0.1^\\circ C]}$')\n",
    "ax.minorticks_on()"
   ]
  },
  {
   "cell_type": "markdown",
   "metadata": {},
   "source": [
    "### Task 5; Calculate yearly average, minimum and maximum for each variable"
   ]
  },
  {
   "cell_type": "code",
   "execution_count": 14,
   "metadata": {},
   "outputs": [
    {
     "name": "stderr",
     "output_type": "stream",
     "text": [
      "C:\\Users\\Joseph\\Anaconda3\\lib\\site-packages\\ipykernel_launcher.py:1: SettingWithCopyWarning: \n",
      "A value is trying to be set on a copy of a slice from a DataFrame.\n",
      "Try using .loc[row_indexer,col_indexer] = value instead\n",
      "\n",
      "See the caveats in the documentation: http://pandas.pydata.org/pandas-docs/stable/indexing.html#indexing-view-versus-copy\n",
      "  \"\"\"Entry point for launching an IPython kernel.\n"
     ]
    },
    {
     "data": {
      "text/plain": [
       "DatetimeIndex(['1988-11-01', '1988-11-02', '1988-11-03', '1988-11-04',\n",
       "               '1988-11-05', '1988-11-06', '1988-11-07', '1988-11-08',\n",
       "               '1988-11-09', '1988-11-10',\n",
       "               ...\n",
       "               '2018-11-15', '2018-11-16', '2018-11-17', '2018-11-18',\n",
       "               '2018-11-19', '2018-11-20', '2018-11-21', '2018-11-22',\n",
       "               '2018-11-23', '2018-11-24'],\n",
       "              dtype='datetime64[ns]', name='YYYYMMDD', length=10981, freq=None)"
      ]
     },
     "execution_count": 14,
     "metadata": {},
     "output_type": "execute_result"
    }
   ],
   "source": [
    "Rdf['YYYYMMDD'] = pd.to_datetime(Rdf['YYYYMMDD']) # Not sure why this was needed as I already used the parse_dates-option when \n",
    "# loading in the data \n",
    "Rdf.set_index('YYYYMMDD', inplace=True) # It is now convenient to set the dates as the index of the dataframe \n",
    "Rdf.index"
   ]
  },
  {
   "cell_type": "code",
   "execution_count": 15,
   "metadata": {},
   "outputs": [
    {
     "data": {
      "application/vnd.jupyter.widget-view+json": {
       "model_id": "1774f4a0fac648b6926b42a6ed9f03d4",
       "version_major": 2,
       "version_minor": 0
      },
      "text/plain": [
       "interactive(children=(IntSlider(value=2003, description='year', max=2017, min=1989), Output()), _dom_classes=(…"
      ]
     },
     "metadata": {},
     "output_type": "display_data"
    },
    {
     "data": {
      "text/plain": [
       "<function __main__.YearlyAverage(year)>"
      ]
     },
     "execution_count": 15,
     "metadata": {},
     "output_type": "execute_result"
    }
   ],
   "source": [
    "def YearlyAverage(year):\n",
    "    # Short function to calculate the averages of a given year\n",
    "    year = str(year)\n",
    "    print(\"The averages at R'dam weather station of the year {} were:\".format(year), \"\\n\")\n",
    "    print(Rdf[year].mean()[1:])\n",
    "    \n",
    "wg.interact(YearlyAverage, year=(1989,2017))"
   ]
  },
  {
   "cell_type": "code",
   "execution_count": 16,
   "metadata": {},
   "outputs": [
    {
     "data": {
      "application/vnd.jupyter.widget-view+json": {
       "model_id": "2cc694b4b3424718961db06524073820",
       "version_major": 2,
       "version_minor": 0
      },
      "text/plain": [
       "interactive(children=(IntSlider(value=2003, description='year', max=2017, min=1989), Output()), _dom_classes=(…"
      ]
     },
     "metadata": {},
     "output_type": "display_data"
    },
    {
     "data": {
      "text/plain": [
       "<function __main__.YearlyMax(year)>"
      ]
     },
     "execution_count": 16,
     "metadata": {},
     "output_type": "execute_result"
    }
   ],
   "source": [
    "def YearlyMax(year):\n",
    "    # Short function to calculate the maxima of a given year\n",
    "    year = str(year)\n",
    "    print(\"The maxima at R'dam weather station of the year {} were:\".format(year), \"\\n\")\n",
    "    print(Rdf[year].max()[1:])\n",
    "    \n",
    "wg.interact(YearlyMax, year=(1989,2017))"
   ]
  },
  {
   "cell_type": "code",
   "execution_count": 18,
   "metadata": {},
   "outputs": [
    {
     "data": {
      "application/vnd.jupyter.widget-view+json": {
       "model_id": "49a0109c55814dcf9fe9edddd9a05fdb",
       "version_major": 2,
       "version_minor": 0
      },
      "text/plain": [
       "interactive(children=(IntSlider(value=2003, description='year', max=2017, min=1989), Output()), _dom_classes=(…"
      ]
     },
     "metadata": {},
     "output_type": "display_data"
    },
    {
     "data": {
      "text/plain": [
       "<function __main__.YearlyMin(year)>"
      ]
     },
     "execution_count": 18,
     "metadata": {},
     "output_type": "execute_result"
    }
   ],
   "source": [
    "def YearlyMin(year):\n",
    "    # Short function to calculate the minima of a given year\n",
    "    year = str(year)\n",
    "    print(\"The minima at R'dam weather station of the year {} were:\".format(year), \"\\n\")\n",
    "    print(Rdf[year].min()[1:])\n",
    "    \n",
    "wg.interact(YearlyMin, year=(1989,2017))"
   ]
  },
  {
   "cell_type": "markdown",
   "metadata": {},
   "source": [
    "### Task 6; Show the above results on TG (only for the max values) using histogram plots "
   ]
  },
  {
   "cell_type": "code",
   "execution_count": 19,
   "metadata": {},
   "outputs": [
    {
     "name": "stdout",
     "output_type": "stream",
     "text": [
      "[251. 245. 237. 237. 229. 263. 253. 244. 253. 234. 236. 256. 249. 245.\n",
      " 257. 261. 245. 272. 240. 240. 233. 258. 252. 252. 260. 266. 270. 254.\n",
      " 236.]\n"
     ]
    }
   ],
   "source": [
    "YmaxTG = np.tile(np.nan, 29) # Array to store the max TG values between 1988 and 2018\n",
    "\n",
    "for i,year in enumerate(np.arange(1989, 2018)):\n",
    "    year = str(year)\n",
    "    YmaxTG[i] = Rdf.loc[year,'   TG'].max()\n",
    "    \n",
    "print(YmaxTG)"
   ]
  },
  {
   "cell_type": "code",
   "execution_count": 20,
   "metadata": {},
   "outputs": [
    {
     "data": {
      "image/png": "[encoded data removed]",
      "text/plain": [
       "<Figure size 504x360 with 1 Axes>"
      ]
     },
     "metadata": {
      "needs_background": "light"
     },
     "output_type": "display_data"
    }
   ],
   "source": [
    "plt.figure(figsize=(7,5))\n",
    "plt.hist(YmaxTG, bins='auto', edgecolor='black') # Plot the histogram. Set the bins on auto, though finding a good choice is \n",
    "# always a sophisticated problem\n",
    "plt.xlabel('Yearly Max TG $\\mathrm{[0.1^\\circ C]}$'); plt.ylabel('count')\n",
    "plt.minorticks_on()"
   ]
  },
  {
   "cell_type": "markdown",
   "metadata": {},
   "source": [
    "### Task 7; Calculate the Pearson correlation matrix between: TG, RH, PG, NG, UG"
   ]
  },
  {
   "cell_type": "code",
   "execution_count": 23,
   "metadata": {},
   "outputs": [
    {
     "name": "stdout",
     "output_type": "stream",
     "text": [
      "             TG        RH        PG        NG        UG\n",
      "   TG  1.000000  0.021457 -0.071123 -0.135812 -0.354765\n",
      "   RH  0.021457  1.000000 -0.392459  0.310311  0.261879\n",
      "   PG -0.071123 -0.392459  1.000000 -0.315383 -0.091605\n",
      "   NG -0.135812  0.310311 -0.315383  1.000000  0.522335\n",
      "   UG -0.354765  0.261879 -0.091605  0.522335  1.000000\n"
     ]
    }
   ],
   "source": [
    "CorrVarMatrix = Rdf.loc[:,['   TG','   RH','   PG','   NG','   UG']].corr(method='pearson')\n",
    "print(CorrVarMatrix)"
   ]
  },
  {
   "cell_type": "code",
   "execution_count": 27,
   "metadata": {},
   "outputs": [
    {
     "data": {
      "text/plain": [
       "<matplotlib.axes._subplots.AxesSubplot at 0x1327127f9b0>"
      ]
     },
     "execution_count": 27,
     "metadata": {},
     "output_type": "execute_result"
    },
    {
     "data": {
      "image/png": "[encoded data removed]",
      "text/plain": [
       "<Figure size 504x432 with 2 Axes>"
      ]
     },
     "metadata": {
      "needs_background": "light"
     },
     "output_type": "display_data"
    }
   ],
   "source": [
    "plt.figure(figsize=(7,6))\n",
    "sns.heatmap(CorrVarMatrix, annot=True, cmap='Reds')"
   ]
  },
  {
   "cell_type": "code",
   "execution_count": null,
   "metadata": {},
   "outputs": [],
   "source": []
  }
 ],
 "metadata": {
  "kernelspec": {
   "display_name": "Python 3",
   "language": "python",
   "name": "python3"
  },
  "language_info": {
   "codemirror_mode": {
    "name": "ipython",
    "version": 3
   },
   "file_extension": ".py",
   "mimetype": "text/x-python",
   "name": "python",
   "nbconvert_exporter": "python",
   "pygments_lexer": "ipython3",
   "version": "3.7.2"
  }
 },
 "nbformat": 4,
 "nbformat_minor": 2
}
